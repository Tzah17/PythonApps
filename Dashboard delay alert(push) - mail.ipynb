{
 "cells": [
  {
   "cell_type": "code",
   "execution_count": 4,
   "id": "504c5808",
   "metadata": {},
   "outputs": [],
   "source": [
    "from bs4 import BeautifulSoup\n",
    "import requests\n",
    "import pandas as pd\n",
    "import json\n",
    "import re\n",
    "import smtplib\n",
    "import time"
   ]
  },
  {
   "cell_type": "code",
   "execution_count": 1,
   "id": "52286ac2",
   "metadata": {},
   "outputs": [],
   "source": [
    "#First turn on two factor authentication in gmail\n",
    "#https://exerror.com/smtplib-smtpauthenticationerror-username-and-password-not-accepted/#:~:text=not%20accepted%20Error%3F-,To%20Solve%20smtplib.,be%20able%20to%20use%20SMTP.\n",
    "\n",
    "def send_mail():\n",
    "    # creates SMTP session\n",
    "    s = smtplib.SMTP('smtp.gmail.com', 587)\n",
    "    # start TLS for security\n",
    "    s.starttls()\n",
    "    # Authentication\n",
    "    s.login('tzahp@mindadmedia.com','vfocxobdzflyqvel')\n",
    "    # message to be sent\n",
    "    subject = \"Delay alert\"\n",
    "    body = \"There is delay in the dashboard\"\n",
    "   \n",
    "    msg = f\"Subject: {subject}\\n\\n{body}\"\n",
    "    # sending the mail\n",
    "    s.sendmail('tzahp@mindadmedia.com', ['tzahp@mindadmedia.com','tzah17@gmail.com'], msg)\n",
    "    # terminating the session\n",
    "    s.quit()"
   ]
  },
  {
   "cell_type": "code",
   "execution_count": 2,
   "id": "ee622798",
   "metadata": {},
   "outputs": [],
   "source": [
    "def check_delayValue():\n",
    "    url = 'https://status.ay.delivery/'\n",
    "    #Extracting  'delay:???' from data\n",
    "    data = requests.get(url).text\n",
    "    x = data.find('delay\":')\n",
    "    data = data[x:]\n",
    "    b = data.find('}},\"s')\n",
    "    data = data[:b]\n",
    "    #Extracting numbers from string\n",
    "    delay = re.findall('[0-9]+', data)\n",
    "    delay = int(\"\".join(delay))\n",
    "    \n",
    "    if(delay>20):\n",
    "        send_mail()\n",
    "    "
   ]
  },
  {
   "cell_type": "code",
   "execution_count": 5,
   "id": "1adec57e",
   "metadata": {},
   "outputs": [],
   "source": [
    "#Set a timer\n",
    "#while(True):\n",
    "check_delayValue()\n",
    "    #time.sleep(60)"
   ]
  },
  {
   "cell_type": "code",
   "execution_count": null,
   "id": "00b2e8cf",
   "metadata": {},
   "outputs": [],
   "source": []
  }
 ],
 "metadata": {
  "kernelspec": {
   "display_name": "Python 3 (ipykernel)",
   "language": "python",
   "name": "python3"
  },
  "language_info": {
   "codemirror_mode": {
    "name": "ipython",
    "version": 3
   },
   "file_extension": ".py",
   "mimetype": "text/x-python",
   "name": "python",
   "nbconvert_exporter": "python",
   "pygments_lexer": "ipython3",
   "version": "3.9.12"
  }
 },
 "nbformat": 4,
 "nbformat_minor": 5
}
